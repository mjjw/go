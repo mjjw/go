{
 "cells": [
  {
   "cell_type": "markdown",
   "metadata": {},
   "source": [
    "Arrays\n",
    "==="
   ]
  },
  {
   "cell_type": "markdown",
   "metadata": {},
   "source": [
    "Go programming language provides a data structure called the array, which can store a fixed-size sequential collection of elements of the same type. An array is used to store a collection of data, but it is often more useful to think of an array as a collection of variables of the same type.\n",
    "\n",
    "Instead of declaring individual variables, such as number0, number1, ..., and number99, you declare one array variable such as numbers and use numbers[0], numbers[1], and ..., numbers[99] to represent individual variables. A specific element in an array is accessed by an index.\n",
    "\n",
    "All arrays consist of contiguous memory locations. The lowest address corresponds to the first element and the highest address to the last element.\n",
    "\n",
    "<img src=\"arrays.jpg\" />\n",
    "\n",
    "Declaring Arrays\n",
    "---\n",
    "To declare an array in Go, a programmer specifies the type of the elements and the number of elements required by an array as follows:\n",
    "\n",
    "var variable_name [SIZE] variable_type\n",
    "\n",
    "This is called a single-dimensional array. The arraySize must be an integer constant greater than zero and type can be any valid Go data type. For example, to declare a 10-element array called balance of type float32, use this statement:\n",
    "\n",
    "var balance [10] float32\n",
    "\n",
    "Now balance is avariable array which is sufficient to hold upto 10 float numbers.\n",
    "\n",
    "Initializing Arrays\n",
    "---\n",
    "You can initialize array in Go either one by one or using a single statement as follows:\n",
    "\n",
    "var balance = [5]float32{1000.0, 2.0, 3.4, 7.0, 50.0}\n",
    "The number of values between braces { } can not be larger than the number of elements that we declare for the array between square brackets [ ].\n",
    "\n",
    "If you omit the size of the array, an array just big enough to hold the initialization is created. Therefore, if you write:\n",
    "\n",
    "var balance = []float32{1000.0, 2.0, 3.4, 7.0, 50.0}\n",
    "\n",
    "You will create exactly the same array as you did in the previous example. Following is an example to assign a single element of the array:\n",
    "\n",
    "balance[4] = 50.0\n",
    "\n",
    "The above statement assigns element number 5th in the array with a value of 50.0. All arrays have 0 as the index of their first element which is also called base index and last index of an array will be total size of the array minus 1. Following is the pictorial representation of the same array we discussed above:\n",
    "\n",
    "<img src=\"array_presentation.jpg\" />\n",
    "\n",
    "Accessing Array Elements\n",
    "---\n",
    "An element is accessed by indexing the array name. This is done by placing the index of the element within square brackets after the name of the array. For example:\n",
    "\n",
    "float32 salary = balance[9]\n",
    "\n",
    "The above statement will take 10th element from the array and assign the value to salary variable. Following is an example which will use all the above mentioned three concepts viz. declaration, assignment and accessing arrays:"
   ]
  },
  {
   "cell_type": "code",
   "execution_count": 1,
   "metadata": {
    "collapsed": false
   },
   "outputs": [
    {
     "data": {
      "text/plain": [
       "Element[0] = 100\n",
       "Element[1] = 101\n",
       "Element[2] = 102\n",
       "Element[3] = 103\n",
       "Element[4] = 104\n",
       "Element[5] = 105\n",
       "Element[6] = 106\n",
       "Element[7] = 107\n",
       "Element[8] = 108\n",
       "Element[9] = 109\n",
       "\n"
      ]
     },
     "execution_count": 1,
     "metadata": {},
     "output_type": "execute_result"
    }
   ],
   "source": [
    "var n [10]int /* n is an array of 10 integers */\n",
    "var i,j int\n",
    "\n",
    "/* initialize elements of array n to 0 */         \n",
    "for i = 0; i < 10; i++ {\n",
    "    n[i] = i + 100 /* set element at location i to i + 100 */\n",
    "}\n",
    "\n",
    "/* output each array element's value */\n",
    "for j = 0; j < 10; j++ {\n",
    "    fmt.Printf(\"Element[%d] = %d\\n\", j, n[j] )\n",
    "}"
   ]
  },
  {
   "cell_type": "markdown",
   "metadata": {},
   "source": [
    "Go Arrays in Detail\n",
    "---\n",
    "Arrays are important to C and should need lots of more details. There are following few important concepts related to array which should be clear to a C programmer:\n",
    "\n",
    "**Concept**|**Description**\n",
    ":-----:|:-----:\n",
    "Multi-dimensional arrays|Go supports multidimensional arrays. The simplest form of the multidimensional array is the two-dimensional array.\n",
    "Passing arrays to functions|You can pass to the function a pointer to an array by specifying the array's name without an index."
   ]
  },
  {
   "cell_type": "markdown",
   "metadata": {},
   "source": [
    "Pointers\n",
    "===\n",
    "Pointers in Go are easy and fun to learn. Some Go programming tasks are performed more easily with pointers, and other tasks, such as call by reference, cannot be performed without using pointers. So it becomes necessary to learn pointers to become a perfect Go programmer. Let's start learning them in simple and easy steps.\n",
    "\n",
    "As you know, every variable is a memory location and every memory location has its address defined which can be accessed using ampersand (&) operator, which denotes an address in memory. Consider the following example, which will print the address of the variables defined:"
   ]
  },
  {
   "cell_type": "code",
   "execution_count": 2,
   "metadata": {
    "collapsed": false
   },
   "outputs": [
    {
     "data": {
      "text/plain": [
       "Element[0] = 100\n",
       "Element[1] = 101\n",
       "Element[2] = 102\n",
       "Element[3] = 103\n",
       "Element[4] = 104\n",
       "Element[5] = 105\n",
       "Element[6] = 106\n",
       "Element[7] = 107\n",
       "Element[8] = 108\n",
       "Element[9] = 109\n",
       "Address of a variable: c42000a3d8\n",
       "\n"
      ]
     },
     "execution_count": 2,
     "metadata": {},
     "output_type": "execute_result"
    }
   ],
   "source": [
    "var a int = 10   \n",
    "fmt.Printf(\"Address of a variable: %x\\n\", &a  )"
   ]
  },
  {
   "cell_type": "markdown",
   "metadata": {},
   "source": [
    "When the above code is compiled and executed, it produces result something as follows:\n",
    "\n",
    "Address of a variable: 10328000\n",
    "\n",
    "So you understood what is memory address and how to access it, so base of the concept is over. Now let us see what is a pointer.\n",
    "\n",
    "What Are Pointers?\n",
    "---\n",
    "A pointer is a variable whose value is the address of another variable, i.e., direct address of the memory location. Like any variable or constant, you must declare a pointer before you can use it to store any variable address. The general form of a pointer variable declaration is:\n",
    "\n",
    "var var_name *var-type\n",
    "\n",
    "Here, type is the pointer's base type; it must be a valid C data type and var-name is the name of the pointer variable. The asterisk * you used to declare a pointer is the same asterisk that you use for multiplication. However, in this statement the asterisk is being used to designate a variable as a pointer. Following are the valid pointer declaration:\n",
    "\n",
    "var ip *int        /* pointer to an integer */\n",
    "\n",
    "var fp *float32    /* pointer to a float */\n",
    "\n",
    "The actual data type of the value of all pointers, whether integer, float, or otherwise, is the same, a long hexadecimal number that represents a memory address. The only difference between pointers of different data types is the data type of the variable or constant that the pointer points to.\n",
    "\n",
    "How to use Pointers?\n",
    "---\n",
    "There are few important operations, which we will do with the help of pointers very frequently. (a) we define a pointer variable (b) assign the address of a variable to a pointer and (c) finally access the value at the address available in the pointer variable. This is done by using unary operator * that returns the value of the variable located at the address specified by its operand. Following example makes use of these operations:"
   ]
  },
  {
   "cell_type": "code",
   "execution_count": 17,
   "metadata": {
    "collapsed": false
   },
   "outputs": [
    {
     "ename": "Error",
     "evalue": "exit status 2",
     "output_type": "error",
     "traceback": [
      "# command-line-arguments\n/tmp/320253902/gore_session.go:69: a redeclared in this block\n\tprevious declaration at /tmp/320253902/gore_session.go:19\n"
     ]
    }
   ],
   "source": [
    "var a int = 20   /* actual variable declaration */\n",
    "var ip *int        /* pointer variable declaration */\n",
    "\n",
    "ip=&a  /* store address of a in pointer variable*/\n",
    "\n",
    "fmt.Printf(\"Address of a variable: %x\\n\",&a)\n",
    "\n",
    "/* address stored in pointer variable */\n",
    "fmt.Printf(\"Address stored in ip variable: %x\\n\",ip)\n",
    "\n",
    "/* access the value using the pointer */\n",
    "fmt.Printf(\"Value of *ip variable: %d\\n\",*ip)"
   ]
  },
  {
   "cell_type": "markdown",
   "metadata": {},
   "source": [
    "nil Pointers in Go\n",
    "---\n",
    "Go compiler assign a Nil value to a pointer variable in case you do not have exact address to be assigned. This is done at the time of variable declaration. A pointer that is assigned nil is called a nil pointer.\n",
    "\n",
    "The nil pointer is a constant with a value of zero defined in several standard libraries. Consider the following program:"
   ]
  },
  {
   "cell_type": "code",
   "execution_count": 14,
   "metadata": {
    "collapsed": false
   },
   "outputs": [
    {
     "data": {
      "text/plain": [
       "Element[0] = 100\n",
       "Element[1] = 101\n",
       "Element[2] = 102\n",
       "Element[3] = 103\n",
       "Element[4] = 104\n",
       "Element[5] = 105\n",
       "Element[6] = 106\n",
       "Element[7] = 107\n",
       "Element[8] = 108\n",
       "Element[9] = 109\n",
       "Address of a variable: c42000a3d8\n",
       "Book 1 title : Go Programming\n",
       "Book 1 author : Mahesh Kumar\n",
       "Book 1 subject : Go Programming Tutorial\n",
       "Book 1 book_id : 6495407\n",
       "Book 2 title : Telecom Billing\n",
       "Book 2 author : Zara Ali\n",
       "Book 2 subject : Telecom Billing Tutorial\n",
       "Book 2 book_id : 6495700\n",
       "Slice item 0 is 0\n",
       "Slice item 1 is 1\n",
       "Slice item 2 is 2\n",
       "Slice item 3 is 3\n",
       "Slice item 4 is 4\n",
       "Slice item 5 is 5\n",
       "Slice item 6 is 6\n",
       "Slice item 7 is 7\n",
       "Slice item 8 is 8\n",
       "Capital of France is Paris\n",
       "Capital of Italy is Rome\n",
       "Capital of Japan is Tokyo\n",
       "Capital of France is Paris\n",
       "Capital of Italy is Rome\n",
       "Capital of Japan is Tokyo\n",
       "Original map\n",
       "Capital of India is New Delhi\n",
       "Capital of France is Paris\n",
       "Capital of Italy is Rome\n",
       "Capital of Japan is Tokyo\n",
       "Entry for France is deleted\n",
       "Updated map\n",
       "Capital of Italy is Rome\n",
       "Capital of Japan is Tokyo\n",
       "Capital of India is New Delhi\n",
       "The value of ptr is : 0\n",
       "\n"
      ]
     },
     "execution_count": 14,
     "metadata": {},
     "output_type": "execute_result"
    }
   ],
   "source": [
    "var  ptr *int\n",
    "fmt.Printf(\"The value of ptr is : %x\\n\", ptr)"
   ]
  },
  {
   "cell_type": "markdown",
   "metadata": {},
   "source": [
    "When the above code is compiled and executed, it produces the following result:\n",
    "\n",
    "The value of ptr is 0\n",
    "\n",
    "On most of the operating systems, programs are not permitted to access memory at address 0 because that memory is reserved by the operating system. However, the memory address 0 has special significance; it signals that the pointer is not intended to point to an accessible memory location. But by convention, if a pointer contains the nil (zero) value, it is assumed to point to nothing.\n",
    "\n",
    "To check for a nil pointer you can use an if statement as follows:\n",
    "\n",
    "if(ptr != nil)     /* succeeds if p is not nil */\n",
    "\n",
    "if(ptr == nil)    /* succeeds if p is null */\n",
    "\n",
    "Go Pointers in Detail:\n",
    "---\n",
    "Pointers have many but easy concepts and they are very important to Go programming. There are following few important pointer concepts which should be clear to a Go programmer:\n",
    "\n",
    "**Concept**|**Description**\n",
    ":-----:|:-----:\n",
    "Go - Array of pointers|You can define arrays to hold a number of pointers.\n",
    "Go - Pointer to pointer|Go allows you to have pointer on a pointer and so on.\n",
    "Passing pointers to functions in Go|Passing an argument by reference or by address both enable the passed argument to be changed in the calling function by the called function."
   ]
  },
  {
   "cell_type": "markdown",
   "metadata": {},
   "source": [
    "Structures\n",
    "==="
   ]
  },
  {
   "cell_type": "markdown",
   "metadata": {},
   "source": [
    "Go arrays allow you to define type of variables that can hold several data items of the same kind but structure is another user defined data type available in Go programming, which allows you to combine data items of different kinds.\n",
    "\n",
    "Structures are used to represent a record, Suppose you want to keep track of your books in a library. You might want to track the following attributes about each book:\n",
    "\n",
    "Title\n",
    "\n",
    "Author\n",
    "\n",
    "Subject\n",
    "\n",
    "Book ID\n",
    "\n",
    "Defining a Structure\n",
    "---\n",
    "To define a structure, you must use type and struct statements. The struct statement defines a new data type, with more than one member for your program. type statement binds a name with the type which is struct in our case. The format of the struct statement is this:\n",
    "\n",
    "type struct_variable_type struct {\n",
    "   member definition;\n",
    "   member definition;\n",
    "   ...\n",
    "   member definition;\n",
    "}\n",
    "\n",
    "Once a structure type is defined, it can be used to declare variables of that type using following syntax.\n",
    "\n",
    "variable_name := structure_variable_type {value1, value2...valuen}\n",
    "\n",
    "Accessing Structure Members\n",
    "---\n",
    "To access any member of a structure, we use the member access operator (.). The member access operator is coded as a period between the structure variable name and the structure member that we wish to access. You would use struct keyword to define variables of structure type. Following is the example to explain usage of structure:\n",
    "\n"
   ]
  },
  {
   "cell_type": "code",
   "execution_count": 5,
   "metadata": {
    "collapsed": false
   },
   "outputs": [
    {
     "data": {
      "text/plain": [
       "Element[0] = 100\n",
       "Element[1] = 101\n",
       "Element[2] = 102\n",
       "Element[3] = 103\n",
       "Element[4] = 104\n",
       "Element[5] = 105\n",
       "Element[6] = 106\n",
       "Element[7] = 107\n",
       "Element[8] = 108\n",
       "Element[9] = 109\n",
       "Address of a variable: c42000a3d8\n",
       "Book 1 title : Go Programming\n",
       "Book 1 author : Mahesh Kumar\n",
       "Book 1 subject : Go Programming Tutorial\n",
       "Book 1 book_id : 6495407\n",
       "Book 2 title : Telecom Billing\n",
       "Book 2 author : Zara Ali\n",
       "Book 2 subject : Telecom Billing Tutorial\n",
       "Book 2 book_id : 6495700\n",
       "\n"
      ]
     },
     "execution_count": 5,
     "metadata": {},
     "output_type": "execute_result"
    }
   ],
   "source": [
    "type Books struct {\n",
    "   title string\n",
    "   author string\n",
    "   subject string\n",
    "   book_id int\n",
    "}\n",
    "\n",
    "var Book1 Books        /* Declare Book1 of type Book */\n",
    "var Book2 Books        /* Declare Book2 of type Book */\n",
    " \n",
    "/* book 1 specification */\n",
    "Book1.title = \"Go Programming\"\n",
    "Book1.author = \"Mahesh Kumar\"\n",
    "Book1.subject = \"Go Programming Tutorial\"\n",
    "Book1.book_id = 6495407\n",
    "\n",
    "/* book 2 specification */\n",
    "Book2.title = \"Telecom Billing\"\n",
    "Book2.author = \"Zara Ali\"\n",
    "Book2.subject = \"Telecom Billing Tutorial\"\n",
    "Book2.book_id = 6495700\n",
    " \n",
    "/* print Book1 info */\n",
    "fmt.Printf( \"Book 1 title : %s\\n\", Book1.title)\n",
    "fmt.Printf( \"Book 1 author : %s\\n\", Book1.author)\n",
    "fmt.Printf( \"Book 1 subject : %s\\n\", Book1.subject)\n",
    "fmt.Printf( \"Book 1 book_id : %d\\n\", Book1.book_id)\n",
    "\n",
    "/* print Book2 info */\n",
    "fmt.Printf( \"Book 2 title : %s\\n\", Book2.title)\n",
    "fmt.Printf( \"Book 2 author : %s\\n\", Book2.author)\n",
    "fmt.Printf( \"Book 2 subject : %s\\n\", Book2.subject)\n",
    "fmt.Printf( \"Book 2 book_id : %d\\n\", Book2.book_id)"
   ]
  },
  {
   "cell_type": "markdown",
   "metadata": {},
   "source": [
    "Structures as Function Arguments\n",
    "---\n",
    "You can pass a structure as a function argument in very similar way as you pass any other variable or pointer. You would access structure variables in the similar way as you have accessed in the above example:"
   ]
  },
  {
   "cell_type": "code",
   "execution_count": 6,
   "metadata": {
    "collapsed": false
   },
   "outputs": [
    {
     "ename": "Error",
     "evalue": "<continue input>",
     "output_type": "error",
     "traceback": [
      ""
     ]
    }
   ],
   "source": [
    "type Books struct {\n",
    "    title string\n",
    "    author string\n",
    "    subject string\n",
    "    book_id int\n",
    "}\n",
    "\n",
    "func printBook( book Books ) {\n",
    "    fmt.Printf( \"Book title : %s\\n\", book.title);\n",
    "    fmt.Printf( \"Book author : %s\\n\", book.author);\n",
    "    fmt.Printf( \"Book subject : %s\\n\", book.subject);\n",
    "    fmt.Printf( \"Book book_id : %d\\n\", book.book_id);\n",
    "}\n",
    "\n",
    "var Book1 Books        /* Declare Book1 of type Book */\n",
    "var Book2 Books        /* Declare Book2 of type Book */\n",
    " \n",
    "/* book 1 specification */\n",
    "Book1.title = \"Go Programming\"\n",
    "Book1.author = \"Mahesh Kumar\"\n",
    "Book1.subject = \"Go Programming Tutorial\"\n",
    "Book1.book_id = 6495407\n",
    "\n",
    "/* book 2 specification */\n",
    "Book2.title = \"Telecom Billing\"\n",
    "Book2.author = \"Zara Ali\"\n",
    "Book2.subject = \"Telecom Billing Tutorial\"\n",
    "Book2.book_id = 6495700\n",
    " \n",
    "/* print Book1 info */\n",
    "printBook(Book1)\n",
    "\n",
    "/* print Book2 info */\n",
    "printBook(Book2)"
   ]
  },
  {
   "cell_type": "markdown",
   "metadata": {},
   "source": [
    "Pointers to Structures\n",
    "---\n",
    "You can define pointers to structures in very similar way as you define pointer to any other variable as follows:\n",
    "\n",
    "var struct_pointer *Books\n",
    "\n",
    "Now, you can store the address of a structure variable in the above defined pointer variable. To find the address of a structure variable, place the & operator before the structure's name as follows:\n",
    "\n",
    "struct_pointer = &Book1;\n",
    "\n",
    "To access the members of a structure using a pointer to that structure, you must use the \".\" operator as follows:\n",
    "\n",
    "struct_pointer.title;\n",
    "\n",
    "Let us re-write above example using structure pointer, hope this will be easy for you to understand the concept:"
   ]
  },
  {
   "cell_type": "code",
   "execution_count": 7,
   "metadata": {
    "collapsed": false
   },
   "outputs": [
    {
     "ename": "Error",
     "evalue": "<continue input>",
     "output_type": "error",
     "traceback": [
      ""
     ]
    }
   ],
   "source": [
    "package main\n",
    "\n",
    "import \"fmt\"\n",
    "\n",
    "type Books struct {\n",
    "   title string\n",
    "   author string\n",
    "   subject string\n",
    "   book_id int\n",
    "}\n",
    "\n",
    "func main() {\n",
    "   var Book1 Books        /* Declare Book1 of type Book */\n",
    "   var Book2 Books        /* Declare Book2 of type Book */\n",
    " \n",
    "   /* book 1 specification */\n",
    "   Book1.title = \"Go Programming\"\n",
    "   Book1.author = \"Mahesh Kumar\"\n",
    "   Book1.subject = \"Go Programming Tutorial\"\n",
    "   Book1.book_id = 6495407\n",
    "\n",
    "   /* book 2 specification */\n",
    "   Book2.title = \"Telecom Billing\"\n",
    "   Book2.author = \"Zara Ali\"\n",
    "   Book2.subject = \"Telecom Billing Tutorial\"\n",
    "   Book2.book_id = 6495700\n",
    " \n",
    "   /* print Book1 info */\n",
    "   printBook(&Book1)\n",
    "\n",
    "   /* print Book2 info */\n",
    "   printBook(&Book2)\n",
    "}\n",
    "func printBook( book *Books ) {\n",
    "   fmt.Printf( \"Book title : %s\\n\", book.title);\n",
    "   fmt.Printf( \"Book author : %s\\n\", book.author);\n",
    "   fmt.Printf( \"Book subject : %s\\n\", book.subject);\n",
    "   fmt.Printf( \"Book book_id : %d\\n\", book.book_id);\n",
    "}"
   ]
  },
  {
   "cell_type": "markdown",
   "metadata": {},
   "source": [
    "Range\n",
    "==="
   ]
  },
  {
   "cell_type": "markdown",
   "metadata": {},
   "source": [
    "The range keyword is used in for loop to iterate over items of an array, slice, channel or map. With array and slices, it returns the index of the item as integer. With maps, it returns the key of the next key-value pair. Range either returns one value or two. If only one value is used on the left of a range expression, it is the 1st value in the following table.\n",
    "\n",
    "**    Range expression**|**\t    1st Value**|**\t  2nd Value(Optional)**\n",
    ":-----:|:-----:|:-----:\n",
    "    Array or slice a [n]E|\tindex i int|\t  a[i] E\n",
    "    String s string type|\tindex i int|\t  rune int\n",
    "    map m map[K]V|\t        key k K|\t      value m[k] V\n",
    "    channel c chan E|\t    element e|     E\tnone"
   ]
  },
  {
   "cell_type": "code",
   "execution_count": 8,
   "metadata": {
    "collapsed": false
   },
   "outputs": [
    {
     "data": {
      "text/plain": [
       "Element[0] = 100\n",
       "Element[1] = 101\n",
       "Element[2] = 102\n",
       "Element[3] = 103\n",
       "Element[4] = 104\n",
       "Element[5] = 105\n",
       "Element[6] = 106\n",
       "Element[7] = 107\n",
       "Element[8] = 108\n",
       "Element[9] = 109\n",
       "Address of a variable: c42000a3d8\n",
       "Book 1 title : Go Programming\n",
       "Book 1 author : Mahesh Kumar\n",
       "Book 1 subject : Go Programming Tutorial\n",
       "Book 1 book_id : 6495407\n",
       "Book 2 title : Telecom Billing\n",
       "Book 2 author : Zara Ali\n",
       "Book 2 subject : Telecom Billing Tutorial\n",
       "Book 2 book_id : 6495700\n",
       "Slice item 0 is 0\n",
       "Slice item 1 is 1\n",
       "Slice item 2 is 2\n",
       "Slice item 3 is 3\n",
       "Slice item 4 is 4\n",
       "Slice item 5 is 5\n",
       "Slice item 6 is 6\n",
       "Slice item 7 is 7\n",
       "Slice item 8 is 8\n",
       "Capital of France is Paris\n",
       "Capital of Italy is Rome\n",
       "Capital of Japan is Tokyo\n",
       "Capital of France is Paris\n",
       "Capital of Italy is Rome\n",
       "Capital of Japan is Tokyo\n",
       "\n"
      ]
     },
     "execution_count": 8,
     "metadata": {},
     "output_type": "execute_result"
    }
   ],
   "source": [
    "/* create a slice */\n",
    "numbers := []int{0,1,2,3,4,5,6,7,8} \n",
    "   \n",
    "/* print the numbers */\n",
    "for i:= range numbers {\n",
    "    fmt.Println(\"Slice item\",i,\"is\",numbers[i])\n",
    "}\n",
    "   \n",
    "/* create a map*/\n",
    "countryCapitalMap := map[string] string {\"France\":\"Paris\",\"Italy\":\"Rome\",\"Japan\":\"Tokyo\"}\n",
    "   \n",
    "/* print map using keys*/\n",
    "for country := range countryCapitalMap {\n",
    "    fmt.Println(\"Capital of\",country,\"is\",countryCapitalMap[country])\n",
    "}\n",
    "   \n",
    "/* print map using key-value*/\n",
    "for country,capital := range countryCapitalMap {\n",
    "    fmt.Println(\"Capital of\",country,\"is\",capital)\n",
    "}"
   ]
  },
  {
   "cell_type": "markdown",
   "metadata": {},
   "source": [
    "Maps\n",
    "==="
   ]
  },
  {
   "cell_type": "markdown",
   "metadata": {},
   "source": [
    "Go provides another important data type map which maps unique keys to values. A key is an object that you use to retrieve a value at a later date. Given a key and a value, you can strore the value in a Map object. After value is stored, you can retrieve it by using its key.\n",
    "\n",
    "Defining a map\n",
    "---\n",
    "You must use make function to create a map.\n",
    "\n",
    "/* declare a variable, by default map will be nil*/\n",
    "var map_variable map[key_data_type]value_data_type\n",
    "\n",
    "/* define the map as nil map can not be assigned any value*/\n",
    "map_variable = make(map[key_data_type]value_data_type)\n",
    "Example\n",
    "Following example illustrates creation and usage of map."
   ]
  },
  {
   "cell_type": "code",
   "execution_count": 9,
   "metadata": {
    "collapsed": false
   },
   "outputs": [
    {
     "ename": "Error",
     "evalue": "exit status 2",
     "output_type": "error",
     "traceback": [
      "# command-line-arguments\n/tmp/320253902/gore_session.go:56: countryCapitalMap redeclared in this block\n\tprevious declaration at /tmp/320253902/gore_session.go:49\n"
     ]
    }
   ],
   "source": [
    "var countryCapitalMap map[string]string\n",
    "/* create a map*/\n",
    "countryCapitalMap = make(map[string]string)\n",
    "   \n",
    "/* insert key-value pairs in the map*/\n",
    "countryCapitalMap[\"France\"] = \"Paris\"\n",
    "countryCapitalMap[\"Italy\"] = \"Rome\"\n",
    "countryCapitalMap[\"Japan\"] = \"Tokyo\"\n",
    "countryCapitalMap[\"India\"] = \"New Delhi\"\n",
    " \n",
    "/* print map using keys*/\n",
    "for country := range countryCapitalMap {\n",
    "    fmt.Println(\"Capital of\",country,\"is\",countryCapitalMap[country])\n",
    "}\n",
    "\n",
    "/* test if entry is present in the map or not*/\n",
    "capital, ok := countryCapitalMap[\"United States\"]\n",
    "/* if ok is true, entry is present otherwise entry is absent*/\n",
    "if(ok){\n",
    "    fmt.Println(\"Capital of United States is\", capital)  \n",
    "}else {\n",
    "    fmt.Println(\"Capital of United States is not present\") \n",
    "}"
   ]
  },
  {
   "cell_type": "markdown",
   "metadata": {},
   "source": [
    "delete() function\n",
    "===\n",
    "delete() function is used to delete an entry from the map. It requires map and corresponding key which is to be deleted. Following is the example:"
   ]
  },
  {
   "cell_type": "code",
   "execution_count": 10,
   "metadata": {
    "collapsed": false
   },
   "outputs": [
    {
     "data": {
      "text/plain": [
       "Element[0] = 100\n",
       "Element[1] = 101\n",
       "Element[2] = 102\n",
       "Element[3] = 103\n",
       "Element[4] = 104\n",
       "Element[5] = 105\n",
       "Element[6] = 106\n",
       "Element[7] = 107\n",
       "Element[8] = 108\n",
       "Element[9] = 109\n",
       "Address of a variable: c42000a3d8\n",
       "Book 1 title : Go Programming\n",
       "Book 1 author : Mahesh Kumar\n",
       "Book 1 subject : Go Programming Tutorial\n",
       "Book 1 book_id : 6495407\n",
       "Book 2 title : Telecom Billing\n",
       "Book 2 author : Zara Ali\n",
       "Book 2 subject : Telecom Billing Tutorial\n",
       "Book 2 book_id : 6495700\n",
       "Slice item 0 is 0\n",
       "Slice item 1 is 1\n",
       "Slice item 2 is 2\n",
       "Slice item 3 is 3\n",
       "Slice item 4 is 4\n",
       "Slice item 5 is 5\n",
       "Slice item 6 is 6\n",
       "Slice item 7 is 7\n",
       "Slice item 8 is 8\n",
       "Capital of Japan is Tokyo\n",
       "Capital of France is Paris\n",
       "Capital of Italy is Rome\n",
       "Capital of France is Paris\n",
       "Capital of Italy is Rome\n",
       "Capital of Japan is Tokyo\n",
       "Original map\n",
       "Capital of India is New Delhi\n",
       "Capital of France is Paris\n",
       "Capital of Italy is Rome\n",
       "Capital of Japan is Tokyo\n",
       "Entry for France is deleted\n",
       "Updated map\n",
       "Capital of Italy is Rome\n",
       "Capital of Japan is Tokyo\n",
       "Capital of India is New Delhi\n",
       "\n"
      ]
     },
     "execution_count": 10,
     "metadata": {},
     "output_type": "execute_result"
    }
   ],
   "source": [
    "/* create a map*/\n",
    "countryCapitalMap := map[string] string {\"France\":\"Paris\",\"Italy\":\"Rome\",\"Japan\":\"Tokyo\",\"India\":\"New Delhi\"}\n",
    "   \n",
    "fmt.Println(\"Original map\")   \n",
    "   \n",
    "/* print map */\n",
    "for country := range countryCapitalMap {\n",
    "    fmt.Println(\"Capital of\",country,\"is\",countryCapitalMap[country])\n",
    "}\n",
    "   \n",
    "/* delete an entry */\n",
    "delete(countryCapitalMap,\"France\");\n",
    "fmt.Println(\"Entry for France is deleted\")  \n",
    "   \n",
    "fmt.Println(\"Updated map\")   \n",
    "   \n",
    "/* print map */\n",
    "for country := range countryCapitalMap {\n",
    "    fmt.Println(\"Capital of\",country,\"is\",countryCapitalMap[country])\n",
    "}"
   ]
  },
  {
   "cell_type": "markdown",
   "metadata": {},
   "source": [
    "Recursion\n",
    "===\n",
    "Recursion is the process of repeating items in a self-similar way. Same applies in programming languages as well where if a programming allows you to call a function inside the same function that is called recursive call of the function as follows.\n",
    "\n",
    "func recursion() {\n",
    "\n",
    "    recursion() /* function calls itself */\n",
    "\n",
    "}\n",
    "\n",
    "func main() {\n",
    "\n",
    "    recursion()\n",
    "\n",
    "}\n",
    "\n",
    "The Go programming language supports recursion, i.e., a function to call itself. But while using recursion, programmers need to be careful to define an exit condition from the function, otherwise it will go in infinite loop.\n",
    "\n",
    "Recursive function are very useful to solve many mathematical problems like to calculate factorial of a number, generating Fibonacci series, etc.\n",
    "\n",
    "Number Factorial\n",
    "---\n",
    "Following is an example, which calculates factorial for a given number using a recursive function:"
   ]
  },
  {
   "cell_type": "code",
   "execution_count": 11,
   "metadata": {
    "collapsed": false
   },
   "outputs": [
    {
     "ename": "Error",
     "evalue": "<continue input>",
     "output_type": "error",
     "traceback": [
      ""
     ]
    }
   ],
   "source": [
    "func factorial(i int)int {\n",
    "    if(i <= 1) {\n",
    "        return 1\n",
    "    }\n",
    "    return i * factorial(i - 1)\n",
    "}\n",
    "\n",
    "var i int = 15\n",
    "fmt.Printf(\"Factorial of %d is %d\", i, factorial(i))"
   ]
  },
  {
   "cell_type": "markdown",
   "metadata": {},
   "source": [
    "When the above code is compiled and executed, it produces the following result:\n",
    "\n",
    "\n",
    "Factorial of 15 is 2004310016\n",
    "\n",
    "Fibonacci Series\n",
    "---\n",
    "Following is another example, which generates Fibonacci series for a given number using a recursive function:"
   ]
  },
  {
   "cell_type": "code",
   "execution_count": 18,
   "metadata": {
    "collapsed": false
   },
   "outputs": [
    {
     "ename": "Error",
     "evalue": "<continue input>",
     "output_type": "error",
     "traceback": [
      ""
     ]
    }
   ],
   "source": [
    "func fibonaci(i int) (ret int) {\n",
    "    if i == 0 {\n",
    "        return 0\n",
    "    }\n",
    "   \n",
    "    if i == 1 {\n",
    "        return 1\n",
    "    }\n",
    "    \n",
    "    return fibonaci(i-1) + fibonaci(i-2)\n",
    "}\n",
    "\n",
    "var i int\n",
    "for i = 0; i < 10; i++ {\n",
    "    fmt.Printf(\"%d \", fibonaci(i))\n",
    "}"
   ]
  }
 ],
 "metadata": {
  "kernelspec": {
   "display_name": "Go (gopherlab)",
   "language": "go",
   "name": "gopherlab"
  },
  "language_info": {
   "file_extension": ".go",
   "mimetype": "application/x-golang",
   "name": "go",
   "version": "go1.7.3"
  }
 },
 "nbformat": 4,
 "nbformat_minor": 0
}
